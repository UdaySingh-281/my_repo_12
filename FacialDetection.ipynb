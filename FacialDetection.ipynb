{
 "cells": [
  {
   "cell_type": "code",
   "execution_count": 7,
   "id": "964bde7f",
   "metadata": {},
   "outputs": [],
   "source": [
    "from keras.utils import to_categorical\n",
    "from tensorflow.keras.utils import load_img\n",
    "from keras.models import Sequential\n",
    "from keras.layers import Dense, Conv2D, Dropout, Flatten, MaxPooling2D\n",
    "from tqdm.notebook import tqdm\n",
    "import os\n",
    "import pandas as pd\n",
    "import numpy as np"
   ]
  },
  {
   "cell_type": "markdown",
   "id": "4e09be60",
   "metadata": {},
   "source": []
  },
  {
   "cell_type": "markdown",
   "id": "44b2bbd5",
   "metadata": {},
   "source": []
  },
  {
   "cell_type": "markdown",
   "id": "83d508c4",
   "metadata": {},
   "source": []
  },
  {
   "cell_type": "code",
   "execution_count": 8,
   "id": "c1b5bd86",
   "metadata": {},
   "outputs": [],
   "source": [
    "TRAIN_DIR = 'images/train'\n",
    "TEST_DIR = 'images/test'"
   ]
  },
  {
   "cell_type": "code",
   "execution_count": 9,
   "id": "64d281eb",
   "metadata": {},
   "outputs": [],
   "source": [
    "def createdataframe(dir):\n",
    "    image_paths = []\n",
    "    labels = []\n",
    "    for label in os.listdir(dir):\n",
    "        for imagename in os.listdir(os.path.join(dir,label)):\n",
    "            image_paths.append(os.path.join(dir,label,imagename))\n",
    "            labels.append(label)\n",
    "        print(label,\"completed\")\n",
    "    return image_paths,labels"
   ]
  },
  {
   "cell_type": "code",
   "execution_count": 10,
   "id": "85829627",
   "metadata": {},
   "outputs": [
    {
     "name": "stdout",
     "output_type": "stream",
     "text": [
      "angry completed\n",
      "disgust completed\n",
      "fear completed\n",
      "happy completed\n",
      "neutral completed\n",
      "sad completed\n",
      "surprise completed\n"
     ]
    }
   ],
   "source": [
    "train = pd.DataFrame()\n",
    "train['image'],train['label'] = createdataframe(TRAIN_DIR)"
   ]
  },
  {
   "cell_type": "code",
   "execution_count": 11,
   "id": "f7333723",
   "metadata": {},
   "outputs": [
    {
     "name": "stdout",
     "output_type": "stream",
     "text": [
      "                                image     label\n",
      "0            images/train\\angry\\0.jpg     angry\n",
      "1            images/train\\angry\\1.jpg     angry\n",
      "2           images/train\\angry\\10.jpg     angry\n",
      "3        images/train\\angry\\10002.jpg     angry\n",
      "4        images/train\\angry\\10016.jpg     angry\n",
      "...                               ...       ...\n",
      "28816  images/train\\surprise\\9969.jpg  surprise\n",
      "28817  images/train\\surprise\\9985.jpg  surprise\n",
      "28818  images/train\\surprise\\9990.jpg  surprise\n",
      "28819  images/train\\surprise\\9992.jpg  surprise\n",
      "28820  images/train\\surprise\\9996.jpg  surprise\n",
      "\n",
      "[28821 rows x 2 columns]\n"
     ]
    }
   ],
   "source": [
    "print(train)"
   ]
  },
  {
   "cell_type": "code",
   "execution_count": 12,
   "id": "6289f3b6",
   "metadata": {},
   "outputs": [
    {
     "name": "stdout",
     "output_type": "stream",
     "text": [
      "angry completed\n",
      "disgust completed\n",
      "fear completed\n",
      "happy completed\n",
      "neutral completed\n",
      "sad completed\n",
      "surprise completed\n"
     ]
    }
   ],
   "source": [
    "test = pd.DataFrame()\n",
    "test['image'],test['label'] = createdataframe(TEST_DIR)"
   ]
  },
  {
   "cell_type": "code",
   "execution_count": 13,
   "id": "75e51c31",
   "metadata": {},
   "outputs": [
    {
     "name": "stdout",
     "output_type": "stream",
     "text": [
      "                              image     label\n",
      "0       images/test\\angry\\10052.jpg     angry\n",
      "1       images/test\\angry\\10065.jpg     angry\n",
      "2       images/test\\angry\\10079.jpg     angry\n",
      "3       images/test\\angry\\10095.jpg     angry\n",
      "4       images/test\\angry\\10121.jpg     angry\n",
      "...                             ...       ...\n",
      "7061  images/test\\surprise\\9806.jpg  surprise\n",
      "7062  images/test\\surprise\\9830.jpg  surprise\n",
      "7063  images/test\\surprise\\9853.jpg  surprise\n",
      "7064  images/test\\surprise\\9878.jpg  surprise\n",
      "7065   images/test\\surprise\\993.jpg  surprise\n",
      "\n",
      "[7066 rows x 2 columns]\n"
     ]
    }
   ],
   "source": [
    "print(test)"
   ]
  },
  {
   "cell_type": "code",
   "execution_count": 14,
   "id": "d49dc5f8",
   "metadata": {},
   "outputs": [],
   "source": [
    "def extract_features(images):\n",
    "    features = []\n",
    "    for image in tqdm(images):\n",
    "        img = load_img(image,grayscale = True)\n",
    "        img = np.array(img)\n",
    "        features.append(img)\n",
    "    features = np.array(features)\n",
    "    features = features.reshape(len(features),48,48,1)\n",
    "    return features"
   ]
  },
  {
   "cell_type": "code",
   "execution_count": 15,
   "id": "b5b02c1b",
   "metadata": {},
   "outputs": [
    {
     "data": {
      "application/vnd.jupyter.widget-view+json": {
       "model_id": "759f7f9f081e449c9d50e1fdd693a924",
       "version_major": 2,
       "version_minor": 0
      },
      "text/plain": [
       "  0%|          | 0/28821 [00:00<?, ?it/s]"
      ]
     },
     "metadata": {},
     "output_type": "display_data"
    },
    {
     "name": "stderr",
     "output_type": "stream",
     "text": [
      "c:\\python3.7\\lib\\site-packages\\keras\\utils\\image_utils.py:410: UserWarning: grayscale is deprecated. Please use color_mode = \"grayscale\"\n",
      "  'grayscale is deprecated. Please use color_mode = \"grayscale\"'\n"
     ]
    }
   ],
   "source": [
    "train_features = extract_features(train['image']) "
   ]
  },
  {
   "cell_type": "code",
   "execution_count": 16,
   "id": "edb5b3d6",
   "metadata": {},
   "outputs": [
    {
     "data": {
      "application/vnd.jupyter.widget-view+json": {
       "model_id": "1ee06309b4534b04811ad8153736a92a",
       "version_major": 2,
       "version_minor": 0
      },
      "text/plain": [
       "  0%|          | 0/7066 [00:00<?, ?it/s]"
      ]
     },
     "metadata": {},
     "output_type": "display_data"
    }
   ],
   "source": [
    "test_features = extract_features(test['image'])"
   ]
  },
  {
   "cell_type": "code",
   "execution_count": 17,
   "id": "c42a5c42",
   "metadata": {},
   "outputs": [],
   "source": [
    "x_train = train_features/255.0\n",
    "x_test = test_features/255.0"
   ]
  },
  {
   "cell_type": "code",
   "execution_count": 18,
   "id": "665503be",
   "metadata": {},
   "outputs": [],
   "source": [
    "from sklearn.preprocessing import LabelEncoder"
   ]
  },
  {
   "cell_type": "code",
   "execution_count": 19,
   "id": "d095fd78",
   "metadata": {},
   "outputs": [
    {
     "data": {
      "text/plain": [
       "LabelEncoder()"
      ]
     },
     "execution_count": 19,
     "metadata": {},
     "output_type": "execute_result"
    }
   ],
   "source": [
    "le = LabelEncoder()\n",
    "le.fit(train['label'])"
   ]
  },
  {
   "cell_type": "code",
   "execution_count": 14,
   "id": "c75021d9",
   "metadata": {},
   "outputs": [],
   "source": [
    "y_train = le.transform(train['label'])\n",
    "y_test = le.transform(test['label'])\n",
    "y_train = to_categorical(y_train,num_classes = 7)\n",
    "y_test = to_categorical(y_test,num_classes = 7)\n",
    "model = Sequential()\n",
    "# convolutional layers\n",
    "model.add(Conv2D(128, kernel_size=(3,3), activation='relu', input_shape=(48,48,1)))\n",
    "model.add(MaxPooling2D(pool_size=(2,2)))\n",
    "model.add(Dropout(0.4))\n",
    "\n",
    "model.add(Conv2D(256, kernel_size=(3,3), activation='relu'))\n",
    "model.add(MaxPooling2D(pool_size=(2,2)))\n",
    "model.add(Dropout(0.4))\n",
    "\n",
    "model.add(Conv2D(512, kernel_size=(3,3), activation='relu'))\n",
    "model.add(MaxPooling2D(pool_size=(2,2)))\n",
    "model.add(Dropout(0.4))\n",
    "\n",
    "model.add(Conv2D(512, kernel_size=(3,3), activation='relu'))\n",
    "model.add(MaxPooling2D(pool_size=(2,2)))\n",
    "model.add(Dropout(0.4))\n",
    "\n",
    "model.add(Flatten())\n",
    "# fully connected layers\n",
    "model.add(Dense(512, activation='relu'))\n",
    "model.add(Dropout(0.4))\n",
    "model.add(Dense(256, activation='relu'))\n",
    "model.add(Dropout(0.3))\n",
    "# output layer\n",
    "model.add(Dense(7, activation='softmax'))\n",
    "model.compile(optimizer = 'adam', loss = 'categorical_crossentropy', metrics = 'accuracy' )"
   ]
  },
  {
   "cell_type": "code",
   "execution_count": 15,
   "id": "08a0fd04",
   "metadata": {},
   "outputs": [
    {
     "name": "stdout",
     "output_type": "stream",
     "text": [
      "Epoch 1/100\n",
      "226/226 [==============================] - 745s 3s/step - loss: 1.8214 - accuracy: 0.2456 - val_loss: 1.8053 - val_accuracy: 0.2603\n",
      "Epoch 2/100\n",
      "226/226 [==============================] - 634s 3s/step - loss: 1.7847 - accuracy: 0.2560 - val_loss: 1.7104 - val_accuracy: 0.2985\n",
      "Epoch 3/100\n",
      "226/226 [==============================] - 547s 2s/step - loss: 1.6916 - accuracy: 0.3154 - val_loss: 1.5905 - val_accuracy: 0.4066\n",
      "Epoch 4/100\n",
      "226/226 [==============================] - 545s 2s/step - loss: 1.5704 - accuracy: 0.3827 - val_loss: 1.4604 - val_accuracy: 0.4299\n",
      "Epoch 5/100\n",
      "226/226 [==============================] - 532s 2s/step - loss: 1.4744 - accuracy: 0.4275 - val_loss: 1.3682 - val_accuracy: 0.4761\n",
      "Epoch 6/100\n",
      "226/226 [==============================] - 537s 2s/step - loss: 1.4184 - accuracy: 0.4503 - val_loss: 1.3133 - val_accuracy: 0.5067\n",
      "Epoch 7/100\n",
      "226/226 [==============================] - 536s 2s/step - loss: 1.3754 - accuracy: 0.4717 - val_loss: 1.2543 - val_accuracy: 0.5190\n",
      "Epoch 8/100\n",
      "226/226 [==============================] - 534s 2s/step - loss: 1.3408 - accuracy: 0.4862 - val_loss: 1.2394 - val_accuracy: 0.5239\n",
      "Epoch 9/100\n",
      "226/226 [==============================] - 531s 2s/step - loss: 1.3167 - accuracy: 0.4991 - val_loss: 1.2210 - val_accuracy: 0.5379\n",
      "Epoch 10/100\n",
      "226/226 [==============================] - 530s 2s/step - loss: 1.2890 - accuracy: 0.5052 - val_loss: 1.1908 - val_accuracy: 0.5505\n",
      "Epoch 11/100\n",
      "226/226 [==============================] - 530s 2s/step - loss: 1.2677 - accuracy: 0.5167 - val_loss: 1.1736 - val_accuracy: 0.5539\n",
      "Epoch 12/100\n",
      "226/226 [==============================] - 523s 2s/step - loss: 1.2585 - accuracy: 0.5195 - val_loss: 1.1634 - val_accuracy: 0.5558\n",
      "Epoch 13/100\n",
      "226/226 [==============================] - 531s 2s/step - loss: 1.2363 - accuracy: 0.5271 - val_loss: 1.1634 - val_accuracy: 0.5570\n",
      "Epoch 14/100\n",
      "226/226 [==============================] - 528s 2s/step - loss: 1.2207 - accuracy: 0.5324 - val_loss: 1.1456 - val_accuracy: 0.5672\n",
      "Epoch 15/100\n",
      "226/226 [==============================] - 526s 2s/step - loss: 1.2108 - accuracy: 0.5430 - val_loss: 1.1347 - val_accuracy: 0.5761\n",
      "Epoch 16/100\n",
      "226/226 [==============================] - 525s 2s/step - loss: 1.2012 - accuracy: 0.5440 - val_loss: 1.1301 - val_accuracy: 0.5699\n",
      "Epoch 17/100\n",
      "226/226 [==============================] - 522s 2s/step - loss: 1.1856 - accuracy: 0.5465 - val_loss: 1.1146 - val_accuracy: 0.5793\n",
      "Epoch 18/100\n",
      "226/226 [==============================] - 521s 2s/step - loss: 1.1712 - accuracy: 0.5559 - val_loss: 1.1142 - val_accuracy: 0.5780\n",
      "Epoch 19/100\n",
      "226/226 [==============================] - 521s 2s/step - loss: 1.1656 - accuracy: 0.5576 - val_loss: 1.0960 - val_accuracy: 0.5887\n",
      "Epoch 20/100\n",
      "226/226 [==============================] - 503s 2s/step - loss: 1.1513 - accuracy: 0.5642 - val_loss: 1.1014 - val_accuracy: 0.5923\n",
      "Epoch 21/100\n",
      "226/226 [==============================] - 500s 2s/step - loss: 1.1417 - accuracy: 0.5659 - val_loss: 1.0928 - val_accuracy: 0.5904\n",
      "Epoch 22/100\n",
      "226/226 [==============================] - 500s 2s/step - loss: 1.1397 - accuracy: 0.5677 - val_loss: 1.0897 - val_accuracy: 0.5896\n",
      "Epoch 23/100\n",
      "226/226 [==============================] - 489s 2s/step - loss: 1.1263 - accuracy: 0.5741 - val_loss: 1.0748 - val_accuracy: 0.5960\n",
      "Epoch 24/100\n",
      "226/226 [==============================] - 493s 2s/step - loss: 1.1168 - accuracy: 0.5730 - val_loss: 1.0668 - val_accuracy: 0.6012\n",
      "Epoch 25/100\n",
      "226/226 [==============================] - 497s 2s/step - loss: 1.1047 - accuracy: 0.5812 - val_loss: 1.0690 - val_accuracy: 0.5978\n",
      "Epoch 26/100\n",
      "226/226 [==============================] - 494s 2s/step - loss: 1.0945 - accuracy: 0.5860 - val_loss: 1.0750 - val_accuracy: 0.5941\n",
      "Epoch 27/100\n",
      "226/226 [==============================] - 494s 2s/step - loss: 1.0891 - accuracy: 0.5870 - val_loss: 1.0677 - val_accuracy: 0.5965\n",
      "Epoch 28/100\n",
      "226/226 [==============================] - 491s 2s/step - loss: 1.0838 - accuracy: 0.5908 - val_loss: 1.0763 - val_accuracy: 0.5955\n",
      "Epoch 29/100\n",
      "226/226 [==============================] - 494s 2s/step - loss: 1.0755 - accuracy: 0.5936 - val_loss: 1.0528 - val_accuracy: 0.6076\n",
      "Epoch 30/100\n",
      "226/226 [==============================] - 494s 2s/step - loss: 1.0646 - accuracy: 0.5958 - val_loss: 1.0513 - val_accuracy: 0.6044\n",
      "Epoch 31/100\n",
      "226/226 [==============================] - 494s 2s/step - loss: 1.0572 - accuracy: 0.5995 - val_loss: 1.0556 - val_accuracy: 0.6037\n",
      "Epoch 32/100\n",
      "226/226 [==============================] - 498s 2s/step - loss: 1.0512 - accuracy: 0.6017 - val_loss: 1.0582 - val_accuracy: 0.6023\n",
      "Epoch 33/100\n",
      "226/226 [==============================] - 495s 2s/step - loss: 1.0429 - accuracy: 0.6067 - val_loss: 1.0583 - val_accuracy: 0.6039\n",
      "Epoch 34/100\n",
      "226/226 [==============================] - 492s 2s/step - loss: 1.0426 - accuracy: 0.6065 - val_loss: 1.0558 - val_accuracy: 0.6023\n",
      "Epoch 35/100\n",
      "226/226 [==============================] - 496s 2s/step - loss: 1.0255 - accuracy: 0.6165 - val_loss: 1.0487 - val_accuracy: 0.6070\n",
      "Epoch 36/100\n",
      "226/226 [==============================] - 494s 2s/step - loss: 1.0233 - accuracy: 0.6140 - val_loss: 1.0474 - val_accuracy: 0.6078\n",
      "Epoch 37/100\n",
      "226/226 [==============================] - 494s 2s/step - loss: 1.0203 - accuracy: 0.6134 - val_loss: 1.0470 - val_accuracy: 0.6100\n",
      "Epoch 38/100\n",
      "226/226 [==============================] - 495s 2s/step - loss: 1.0176 - accuracy: 0.6185 - val_loss: 1.0445 - val_accuracy: 0.6093\n",
      "Epoch 39/100\n",
      "226/226 [==============================] - 496s 2s/step - loss: 1.0076 - accuracy: 0.6240 - val_loss: 1.0544 - val_accuracy: 0.6070\n",
      "Epoch 40/100\n",
      "226/226 [==============================] - 495s 2s/step - loss: 0.9945 - accuracy: 0.6257 - val_loss: 1.0481 - val_accuracy: 0.6104\n",
      "Epoch 41/100\n",
      "226/226 [==============================] - 494s 2s/step - loss: 0.9885 - accuracy: 0.6310 - val_loss: 1.0515 - val_accuracy: 0.6039\n",
      "Epoch 42/100\n",
      "226/226 [==============================] - 494s 2s/step - loss: 0.9874 - accuracy: 0.6256 - val_loss: 1.0425 - val_accuracy: 0.6108\n",
      "Epoch 43/100\n",
      "226/226 [==============================] - 493s 2s/step - loss: 0.9927 - accuracy: 0.6278 - val_loss: 1.0339 - val_accuracy: 0.6121\n",
      "Epoch 44/100\n",
      "226/226 [==============================] - 502s 2s/step - loss: 0.9730 - accuracy: 0.6362 - val_loss: 1.0421 - val_accuracy: 0.6108\n",
      "Epoch 45/100\n",
      "226/226 [==============================] - 504s 2s/step - loss: 0.9717 - accuracy: 0.6348 - val_loss: 1.0431 - val_accuracy: 0.6175\n",
      "Epoch 46/100\n",
      "226/226 [==============================] - 507s 2s/step - loss: 0.9682 - accuracy: 0.6368 - val_loss: 1.0404 - val_accuracy: 0.6093\n",
      "Epoch 47/100\n",
      "226/226 [==============================] - 503s 2s/step - loss: 0.9547 - accuracy: 0.6420 - val_loss: 1.0278 - val_accuracy: 0.6183\n",
      "Epoch 48/100\n",
      "226/226 [==============================] - 497s 2s/step - loss: 0.9494 - accuracy: 0.6421 - val_loss: 1.0337 - val_accuracy: 0.6175\n",
      "Epoch 49/100\n",
      "226/226 [==============================] - 497s 2s/step - loss: 0.9474 - accuracy: 0.6497 - val_loss: 1.0338 - val_accuracy: 0.6166\n",
      "Epoch 50/100\n",
      "226/226 [==============================] - 498s 2s/step - loss: 0.9480 - accuracy: 0.6448 - val_loss: 1.0406 - val_accuracy: 0.6179\n",
      "Epoch 51/100\n",
      "226/226 [==============================] - 496s 2s/step - loss: 0.9401 - accuracy: 0.6454 - val_loss: 1.0285 - val_accuracy: 0.6217\n",
      "Epoch 52/100\n",
      "226/226 [==============================] - 498s 2s/step - loss: 0.9392 - accuracy: 0.6467 - val_loss: 1.0250 - val_accuracy: 0.6278\n",
      "Epoch 53/100\n",
      "226/226 [==============================] - 496s 2s/step - loss: 0.9265 - accuracy: 0.6536 - val_loss: 1.0317 - val_accuracy: 0.6187\n",
      "Epoch 54/100\n",
      "226/226 [==============================] - 500s 2s/step - loss: 0.9204 - accuracy: 0.6558 - val_loss: 1.0277 - val_accuracy: 0.6200\n",
      "Epoch 55/100\n",
      "226/226 [==============================] - 497s 2s/step - loss: 0.9221 - accuracy: 0.6561 - val_loss: 1.0267 - val_accuracy: 0.6252\n",
      "Epoch 56/100\n",
      "226/226 [==============================] - 498s 2s/step - loss: 0.9154 - accuracy: 0.6561 - val_loss: 1.0327 - val_accuracy: 0.6233\n",
      "Epoch 57/100\n",
      "226/226 [==============================] - 495s 2s/step - loss: 0.9096 - accuracy: 0.6630 - val_loss: 1.0207 - val_accuracy: 0.6269\n",
      "Epoch 58/100\n",
      "226/226 [==============================] - 496s 2s/step - loss: 0.8955 - accuracy: 0.6642 - val_loss: 1.0330 - val_accuracy: 0.6274\n",
      "Epoch 59/100\n",
      "226/226 [==============================] - 495s 2s/step - loss: 0.9006 - accuracy: 0.6634 - val_loss: 1.0359 - val_accuracy: 0.6250\n",
      "Epoch 60/100\n",
      "226/226 [==============================] - 495s 2s/step - loss: 0.8983 - accuracy: 0.6615 - val_loss: 1.0304 - val_accuracy: 0.6149\n",
      "Epoch 61/100\n",
      "226/226 [==============================] - 497s 2s/step - loss: 0.8879 - accuracy: 0.6694 - val_loss: 1.0272 - val_accuracy: 0.6274\n",
      "Epoch 62/100\n",
      "226/226 [==============================] - 493s 2s/step - loss: 0.8827 - accuracy: 0.6738 - val_loss: 1.0227 - val_accuracy: 0.6272\n",
      "Epoch 63/100\n",
      "226/226 [==============================] - 496s 2s/step - loss: 0.8769 - accuracy: 0.6768 - val_loss: 1.0193 - val_accuracy: 0.6312\n",
      "Epoch 64/100\n",
      "226/226 [==============================] - 517s 2s/step - loss: 0.8681 - accuracy: 0.6800 - val_loss: 1.0356 - val_accuracy: 0.6238\n",
      "Epoch 65/100\n",
      "226/226 [==============================] - 498s 2s/step - loss: 0.8664 - accuracy: 0.6771 - val_loss: 1.0242 - val_accuracy: 0.6272\n",
      "Epoch 66/100\n",
      "226/226 [==============================] - 496s 2s/step - loss: 0.8672 - accuracy: 0.6768 - val_loss: 1.0361 - val_accuracy: 0.6269\n",
      "Epoch 67/100\n",
      "226/226 [==============================] - 500s 2s/step - loss: 0.8584 - accuracy: 0.6835 - val_loss: 1.0382 - val_accuracy: 0.6240\n",
      "Epoch 68/100\n",
      "226/226 [==============================] - 497s 2s/step - loss: 0.8542 - accuracy: 0.6838 - val_loss: 1.0361 - val_accuracy: 0.6274\n",
      "Epoch 69/100\n",
      "226/226 [==============================] - 499s 2s/step - loss: 0.8489 - accuracy: 0.6874 - val_loss: 1.0432 - val_accuracy: 0.6211\n",
      "Epoch 70/100\n",
      "226/226 [==============================] - 496s 2s/step - loss: 0.8412 - accuracy: 0.6884 - val_loss: 1.0380 - val_accuracy: 0.6294\n",
      "Epoch 71/100\n",
      "226/226 [==============================] - 494s 2s/step - loss: 0.8488 - accuracy: 0.6862 - val_loss: 1.0294 - val_accuracy: 0.6265\n",
      "Epoch 72/100\n",
      "226/226 [==============================] - 496s 2s/step - loss: 0.8440 - accuracy: 0.6856 - val_loss: 1.0318 - val_accuracy: 0.6226\n",
      "Epoch 73/100\n",
      "226/226 [==============================] - 494s 2s/step - loss: 0.8316 - accuracy: 0.6949 - val_loss: 1.0342 - val_accuracy: 0.6272\n",
      "Epoch 74/100\n",
      "226/226 [==============================] - 496s 2s/step - loss: 0.8354 - accuracy: 0.6918 - val_loss: 1.0303 - val_accuracy: 0.6284\n",
      "Epoch 75/100\n",
      "226/226 [==============================] - 496s 2s/step - loss: 0.8308 - accuracy: 0.6938 - val_loss: 1.0321 - val_accuracy: 0.6291\n",
      "Epoch 76/100\n",
      "226/226 [==============================] - 496s 2s/step - loss: 0.8276 - accuracy: 0.6945 - val_loss: 1.0169 - val_accuracy: 0.6335\n",
      "Epoch 77/100\n",
      "226/226 [==============================] - 494s 2s/step - loss: 0.8155 - accuracy: 0.6995 - val_loss: 1.0231 - val_accuracy: 0.6325\n",
      "Epoch 78/100\n",
      "226/226 [==============================] - 496s 2s/step - loss: 0.8096 - accuracy: 0.7038 - val_loss: 1.0334 - val_accuracy: 0.6265\n",
      "Epoch 79/100\n",
      "226/226 [==============================] - 494s 2s/step - loss: 0.8108 - accuracy: 0.7035 - val_loss: 1.0314 - val_accuracy: 0.6261\n",
      "Epoch 80/100\n",
      "226/226 [==============================] - 516s 2s/step - loss: 0.8075 - accuracy: 0.7026 - val_loss: 1.0312 - val_accuracy: 0.6245\n",
      "Epoch 81/100\n",
      "226/226 [==============================] - 496s 2s/step - loss: 0.8007 - accuracy: 0.7054 - val_loss: 1.0325 - val_accuracy: 0.6265\n",
      "Epoch 82/100\n",
      "226/226 [==============================] - 503s 2s/step - loss: 0.8000 - accuracy: 0.7043 - val_loss: 1.0336 - val_accuracy: 0.6294\n",
      "Epoch 83/100\n",
      "226/226 [==============================] - 534s 2s/step - loss: 0.7910 - accuracy: 0.7060 - val_loss: 1.0179 - val_accuracy: 0.6359\n",
      "Epoch 84/100\n",
      "226/226 [==============================] - 491s 2s/step - loss: 0.7948 - accuracy: 0.7079 - val_loss: 1.0257 - val_accuracy: 0.6342\n",
      "Epoch 85/100\n",
      "226/226 [==============================] - 493s 2s/step - loss: 0.7871 - accuracy: 0.7136 - val_loss: 1.0314 - val_accuracy: 0.6302\n",
      "Epoch 86/100\n",
      "226/226 [==============================] - 493s 2s/step - loss: 0.7842 - accuracy: 0.7136 - val_loss: 1.0245 - val_accuracy: 0.6308\n",
      "Epoch 87/100\n",
      "226/226 [==============================] - 495s 2s/step - loss: 0.7788 - accuracy: 0.7124 - val_loss: 1.0261 - val_accuracy: 0.6347\n",
      "Epoch 88/100\n",
      "226/226 [==============================] - 496s 2s/step - loss: 0.7748 - accuracy: 0.7169 - val_loss: 1.0229 - val_accuracy: 0.6303\n",
      "Epoch 89/100\n",
      "226/226 [==============================] - 495s 2s/step - loss: 0.7638 - accuracy: 0.7223 - val_loss: 1.0340 - val_accuracy: 0.6271\n",
      "Epoch 90/100\n",
      "226/226 [==============================] - 500s 2s/step - loss: 0.7608 - accuracy: 0.7211 - val_loss: 1.0403 - val_accuracy: 0.6288\n",
      "Epoch 91/100\n",
      "226/226 [==============================] - 559s 2s/step - loss: 0.7705 - accuracy: 0.7156 - val_loss: 1.0376 - val_accuracy: 0.6268\n",
      "Epoch 92/100\n",
      "226/226 [==============================] - 540s 2s/step - loss: 0.7605 - accuracy: 0.7245 - val_loss: 1.0330 - val_accuracy: 0.6323\n",
      "Epoch 93/100\n",
      "226/226 [==============================] - 563s 2s/step - loss: 0.7584 - accuracy: 0.7235 - val_loss: 1.0393 - val_accuracy: 0.6286\n",
      "Epoch 94/100\n",
      "226/226 [==============================] - 526s 2s/step - loss: 0.7664 - accuracy: 0.7193 - val_loss: 1.0295 - val_accuracy: 0.6292\n",
      "Epoch 95/100\n",
      "226/226 [==============================] - 512s 2s/step - loss: 0.7584 - accuracy: 0.7254 - val_loss: 1.0376 - val_accuracy: 0.6291\n",
      "Epoch 96/100\n",
      "226/226 [==============================] - 542s 2s/step - loss: 0.7570 - accuracy: 0.7275 - val_loss: 1.0319 - val_accuracy: 0.6284\n",
      "Epoch 97/100\n",
      "226/226 [==============================] - 524s 2s/step - loss: 0.7451 - accuracy: 0.7294 - val_loss: 1.0356 - val_accuracy: 0.6274\n",
      "Epoch 98/100\n",
      "226/226 [==============================] - 527s 2s/step - loss: 0.7315 - accuracy: 0.7332 - val_loss: 1.0381 - val_accuracy: 0.6319\n",
      "Epoch 99/100\n",
      "226/226 [==============================] - 501s 2s/step - loss: 0.7431 - accuracy: 0.7278 - val_loss: 1.0332 - val_accuracy: 0.6333\n",
      "Epoch 100/100\n",
      "226/226 [==============================] - 511s 2s/step - loss: 0.7323 - accuracy: 0.7305 - val_loss: 1.0381 - val_accuracy: 0.6301\n"
     ]
    },
    {
     "data": {
      "text/plain": [
       "<keras.callbacks.History at 0x2e06ad3ee88>"
      ]
     },
     "execution_count": 15,
     "metadata": {},
     "output_type": "execute_result"
    }
   ],
   "source": [
    "\n",
    "model.fit(x= x_train,y = y_train, batch_size = 128, epochs = 100, validation_data = (x_test,y_test)) "
   ]
  },
  {
   "cell_type": "code",
   "execution_count": 16,
   "id": "96a4b55e",
   "metadata": {},
   "outputs": [],
   "source": [
    "model_json = model.to_json()\n",
    "with open(\"emotiondetector.json\",'w') as json_file:\n",
    "    json_file.write(model_json)\n",
    "model.save(\"emotiondetector.h5\")"
   ]
  },
  {
   "cell_type": "code",
   "execution_count": 1,
   "id": "83c666ed",
   "metadata": {},
   "outputs": [],
   "source": [
    "from keras.models import model_from_json"
   ]
  },
  {
   "cell_type": "code",
   "execution_count": 3,
   "id": "e400a74f",
   "metadata": {},
   "outputs": [],
   "source": [
    "json_file = open(\"emotiondetector.json\", \"r\")\n",
    "model_json = json_file.read()\n",
    "json_file.close()\n",
    "model = model_from_json(model_json)\n",
    "model.load_weights(\"emotiondetector.h5\")"
   ]
  },
  {
   "cell_type": "code",
   "execution_count": 4,
   "id": "62356d94",
   "metadata": {},
   "outputs": [],
   "source": [
    "label = ['angry','disgust','fear','happy','neutral','sad','surprise']"
   ]
  },
  {
   "cell_type": "code",
   "execution_count": 5,
   "id": "79e584f4",
   "metadata": {},
   "outputs": [],
   "source": [
    "def ef(image):\n",
    "    img = load_img(image,grayscale =  True )\n",
    "    feature = np.array(img)\n",
    "    feature = feature.reshape(1,48,48,1)\n",
    "    return feature/255.0"
   ]
  },
  {
   "cell_type": "code",
   "execution_count": 20,
   "id": "a4d65151",
   "metadata": {},
   "outputs": [
    {
     "name": "stdout",
     "output_type": "stream",
     "text": [
      "original image is of sad\n"
     ]
    },
    {
     "name": "stderr",
     "output_type": "stream",
     "text": [
      "c:\\python3.7\\lib\\site-packages\\keras\\utils\\image_utils.py:410: UserWarning: grayscale is deprecated. Please use color_mode = \"grayscale\"\n",
      "  'grayscale is deprecated. Please use color_mode = \"grayscale\"'\n"
     ]
    },
    {
     "name": "stdout",
     "output_type": "stream",
     "text": [
      "1/1 [==============================] - 0s 462ms/step\n",
      "model prediction is  sad\n"
     ]
    }
   ],
   "source": [
    "image = 'images/train/sad/42.jpg'\n",
    "print(\"original image is of sad\")\n",
    "img = ef(image)\n",
    "pred = model.predict(img)\n",
    "pred_label = label[pred.argmax()]\n",
    "print(\"model prediction is \",pred_label)"
   ]
  },
  {
   "cell_type": "code",
   "execution_count": 21,
   "id": "b408c092",
   "metadata": {},
   "outputs": [
    {
     "name": "stdout",
     "output_type": "stream",
     "text": [
      "original image is of sad\n",
      "1/1 [==============================] - 0s 29ms/step\n",
      "model prediction is  sad\n"
     ]
    },
    {
     "name": "stderr",
     "output_type": "stream",
     "text": [
      "c:\\python3.7\\lib\\site-packages\\keras\\utils\\image_utils.py:410: UserWarning: grayscale is deprecated. Please use color_mode = \"grayscale\"\n",
      "  'grayscale is deprecated. Please use color_mode = \"grayscale\"'\n"
     ]
    },
    {
     "data": {
      "text/plain": [
       "<matplotlib.image.AxesImage at 0x1b8bc93fac8>"
      ]
     },
     "execution_count": 21,
     "metadata": {},
     "output_type": "execute_result"
    },
    {
     "data": {
      "image/png": "[encoded data removed]",
      "text/plain": [
       "<Figure size 432x288 with 1 Axes>"
      ]
     },
     "metadata": {
      "needs_background": "light"
     },
     "output_type": "display_data"
    }
   ],
   "source": [
    "import matplotlib.pyplot as plt\n",
    "%matplotlib inline\n",
    "image = 'images/train/sad/42.jpg'\n",
    "print(\"original image is of sad\")\n",
    "img = ef(image)\n",
    "pred = model.predict(img)\n",
    "pred_label = label[pred.argmax()]\n",
    "print(\"model prediction is \",pred_label)\n",
    "plt.imshow(img.reshape(48,48),cmap='gray')"
   ]
  },
  {
   "cell_type": "code",
   "execution_count": 22,
   "id": "cbc24b1c",
   "metadata": {},
   "outputs": [
    {
     "name": "stdout",
     "output_type": "stream",
     "text": [
      "original image is of fear\n",
      "1/1 [==============================] - 0s 46ms/step\n",
      "model prediction is  sad\n"
     ]
    },
    {
     "data": {
      "text/plain": [
       "<matplotlib.image.AxesImage at 0x1b8bc9d4788>"
      ]
     },
     "execution_count": 22,
     "metadata": {},
     "output_type": "execute_result"
    },
    {
     "data": {
      "image/png": "[encoded data removed]",
      "text/plain": [
       "<Figure size 432x288 with 1 Axes>"
      ]
     },
     "metadata": {
      "needs_background": "light"
     },
     "output_type": "display_data"
    }
   ],
   "source": [
    "image = 'images/train/fear/2.jpg'\n",
    "print(\"original image is of fear\")\n",
    "img = ef(image)\n",
    "pred = model.predict(img)\n",
    "pred_label = label[pred.argmax()]\n",
    "print(\"model prediction is \",pred_label)\n",
    "plt.imshow(img.reshape(48,48),cmap='gray')"
   ]
  },
  {
   "cell_type": "code",
   "execution_count": 23,
   "id": "062b4281",
   "metadata": {},
   "outputs": [
    {
     "name": "stdout",
     "output_type": "stream",
     "text": [
      "original image is of disgust\n",
      "1/1 [==============================] - 0s 28ms/step\n",
      "model prediction is  disgust\n"
     ]
    },
    {
     "data": {
      "text/plain": [
       "<matplotlib.image.AxesImage at 0x1b8bca2bb88>"
      ]
     },
     "execution_count": 23,
     "metadata": {},
     "output_type": "execute_result"
    },
    {
     "data": {
      "image/png": "[encoded data removed]",
      "text/plain": [
       "<Figure size 432x288 with 1 Axes>"
      ]
     },
     "metadata": {
      "needs_background": "light"
     },
     "output_type": "display_data"
    }
   ],
   "source": [
    "image = 'images/train/disgust/299.jpg'\n",
    "print(\"original image is of disgust\")\n",
    "img = ef(image)\n",
    "pred = model.predict(img)\n",
    "pred_label = label[pred.argmax()]\n",
    "print(\"model prediction is \",pred_label)\n",
    "plt.imshow(img.reshape(48,48),cmap='gray')"
   ]
  }
 ],
 "metadata": {
  "kernelspec": {
   "display_name": "Python 3 (ipykernel)",
   "language": "python",
   "name": "python3"
  },
  "language_info": {
   "codemirror_mode": {
    "name": "ipython",
    "version": 3
   },
   "file_extension": ".py",
   "mimetype": "text/x-python",
   "name": "python",
   "nbconvert_exporter": "python",
   "pygments_lexer": "ipython3",
   "version": "3.7.4"
  }
 },
 "nbformat": 4,
 "nbformat_minor": 5
}
